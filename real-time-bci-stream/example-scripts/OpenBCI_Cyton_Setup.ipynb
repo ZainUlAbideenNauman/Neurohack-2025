{
 "cells": [
  {
   "cell_type": "markdown",
   "metadata": {},
   "source": [
    "# Cyton Signal Acquisition\n",
    "\n",
    "This notebook demonstrates how to acquire data from the Cyton board using the brainflow library (and a custom module). The Cyton board is a 8-channel EEG board that can be used to acquire EEG data.\n",
    "\n",
    "**NOTE:** If you want to use the custom module, you will need to have the file `brainflow_stream.py` in the same directory as this notebook (or other scripts that use it)."
   ]
  },
  {
   "cell_type": "markdown",
   "metadata": {},
   "source": [
    "## Installation\n",
    "\n",
    "Make sure you have the provided `neurohack` python environment installed.\n",
    "\n",
    "Or you can install the following packages:\n",
    "\n",
    "```bash\n",
    "conda install brainflow\n",
    "conda install scipy\n",
    "conda install matplotlib\n",
    "conda install pyserial\n",
    "```"
   ]
  },
  {
   "cell_type": "code",
   "execution_count": 1,
   "metadata": {},
   "outputs": [],
   "source": [
    "import scipy\n",
    "import numpy as np\n",
    "import matplotlib.pyplot as plt\n",
    "import time\n",
    "\n",
    "import brainflow\n",
    "from brainflow.board_shim import BoardShim, BrainFlowInputParams, BrainFlowError, BoardIds\n",
    "\n",
    "\n",
    "# Import the custom module.\n",
    "from brainflow_stream import BrainFlowBoardSetup"
   ]
  },
  {
   "cell_type": "markdown",
   "metadata": {},
   "source": [
    "# Connecting to the cyton board"
   ]
  },
  {
   "cell_type": "markdown",
   "metadata": {},
   "source": [
    "## Create a BrainFlowBoard object\n",
    "\n",
    "The BrainFlowBoardSetup object is a custom wrapper to the Brainflow BoardShim object. There is some added utility to the custom wrapper, such as the ability to automatically detect the serial port of the Cyton board.\n",
    "\n",
    "All attributes of the BrainFlowBoardSetup are: - Also see the `brainflow_stream.py` module for more details.\n",
    "- name (str): A user-friendly name or identifier for the board setup instance. (Useful when connecting to 2+ boards simultaneously)\n",
    "- board_id (int): The ID of the BrainFlow board to use.\n",
    "- serial_port (str): The serial port to which the BrainFlow board is connected.\n",
    "- master_board (int): (Optional, ONLY if using playback or synthetic boards) The ID of the master board.\n",
    "- params (BrainFlowInputParams): (Optional) Instance of BrainFlowInputParams representing the board's input parameters.\n",
    "- board (BoardShim): Instance of BoardShim representing the active board.\n",
    "- session_prepared (bool): Flag indicating if the session has been prepared.\n",
    "- streaming (bool): Flag indicating if the board is actively streaming data.\n",
    "- eeg_channels (list): List of EEG channel indices for the board (empty if not applicable).\n",
    "- sampling_rate (int): Sampling rate of the board."
   ]
  },
  {
   "cell_type": "code",
   "execution_count": null,
   "metadata": {},
   "outputs": [],
   "source": [
    "board_id = BoardIds.CYTON_BOARD.value # Set the board_id to match the Cyton board\n",
    "\n",
    "# Lets quickly take a look at the specifications of the Cyton board\n",
    "for item1, item2 in BoardShim.get_board_descr(board_id).items():\n",
    "    print(f\"{item1}: {item2}\")"
   ]
  },
  {
   "cell_type": "code",
   "execution_count": null,
   "metadata": {},
   "outputs": [],
   "source": [
    "cyton_board = BrainFlowBoardSetup(\n",
    "                                board_id = board_id,\n",
    "                                name = 'Board_1', # Optional name for the board. This is useful if you have multiple boards connected and want to distinguish between them.\n",
    "                                serial_port = None # If the serial port is not specified, it will try to auto-detect the board. If this fails, you will have to assign the correct serial port. See https://docs.openbci.com/GettingStarted/Boards/CytonGS/ \n",
    "                                ) \n",
    "\n",
    "cyton_board.setup() # This will establish a connection to the board and start streaming data."
   ]
  },
  {
   "cell_type": "markdown",
   "metadata": {},
   "source": [
    "Once the board is connected and streaming, we can call some utility functions to get some information about the board."
   ]
  },
  {
   "cell_type": "code",
   "execution_count": null,
   "metadata": {},
   "outputs": [],
   "source": [
    "board_info = cyton_board.get_board_info() # Retrieves the EEG channel and sampling rate of the board.\n",
    "print(f\"Board info: {board_info}\")\n",
    "\n",
    "board_srate = cyton_board.get_sampling_rate() # Retrieves the sampling rate of the board.\n",
    "print(f\"Board sampling rate: {board_srate}\")"
   ]
  },
  {
   "cell_type": "markdown",
   "metadata": {},
   "source": [
    "We can also look at the specifications of the board."
   ]
  },
  {
   "cell_type": "markdown",
   "metadata": {},
   "source": [
    "## Get Data\n",
    "\n",
    "Once connected, the board starts streaming data into the computers' buffer where it is stored temporarily. The default buffer size is 450000 (at 250Hz sampling rate, this is 30 minutes). We can then pull data from the buffer and process it.\n",
    "\n",
    "There are **Two ways** to pull data from the board/buffer.\n",
    "1. `get_board_data()` -> Retrieves and clears ALL samples from the buffer. \n",
    "2. `get_current_board_data(num_samples)` -> Retrieves the last `num_samples` samples without clearing them from the buffer.\n",
    "\n",
    "For more information on the buffer and behind-the-scenes see the [brainflow documentation](https://brainflow.readthedocs.io/en/stable/UserAPI.html#brainflow-board-shim)."
   ]
  },
  {
   "cell_type": "code",
   "execution_count": null,
   "metadata": {},
   "outputs": [],
   "source": [
    "time.sleep(5) # Wait for 5 seconds to allow the board to build up some samples into the buffer\n",
    "\n",
    "raw_data_500 = cyton_board.get_current_board_data(num_samples = 500) # Get the latest 500 samples from the buffer\n",
    "print(f\"raw_data_1000 shape: {raw_data_500.shape}\")\n",
    "\n",
    "raw_data_all = cyton_board.get_board_data() \n",
    "print(f\"raw_data_all shape: {raw_data_all.shape}\")"
   ]
  },
  {
   "cell_type": "markdown",
   "metadata": {},
   "source": [
    "As we can see here, each method returns a tuple of two arrays in shape **(n_channels, n_samples)**\n",
    "\n",
    "Since the cyton_board only has 8 eeg channels, the other channels contain data on other sensors like the accelerometer, gyroscope, etc.\n",
    "\n",
    "For the Cyton boards this is the channel mapping:\n",
    "- {'accel_channels': [9, 10, 11], \n",
    "- 'analog_channels': [19, 20, 21], \n",
    "- 'eeg_channels': [1, 2, 3, 4, 5, 6, 7, 8], \n",
    "- 'eeg_names': 'Fp1,Fp2,C3,C4,P7,P8,O1,O2', \n",
    "- 'marker_channel': 23, \n",
    "- 'other_channels': [12, 13, 14, 15, 16, 17, 18], \n",
    "- 'package_num_channel': 0, \n",
    "- 'sampling_rate': 250, \n",
    "- 'timestamp_channel': 22}\n",
    "\n",
    "So, lets slice out only the EEG channels from our raw data"
   ]
  },
  {
   "cell_type": "code",
   "execution_count": null,
   "metadata": {},
   "outputs": [],
   "source": [
    "eeg_data = raw_data_500[1:9, :] # Get the EEG data from the first 8 channels\n",
    "print(f\"eeg_data shape: {eeg_data.shape}\")"
   ]
  },
  {
   "cell_type": "markdown",
   "metadata": {},
   "source": [
    "Great, now lets visualize the data using matplotlib"
   ]
  },
  {
   "cell_type": "code",
   "execution_count": null,
   "metadata": {},
   "outputs": [],
   "source": [
    "num_channels = eeg_data.shape[0]\n",
    "num_samples = eeg_data.shape[1]\n",
    "\n",
    "# Create a figure and a set of subplots\n",
    "fig, axes = plt.subplots(num_channels, 1, figsize=(10, 2 * num_channels), sharex=True, sharey=True)\n",
    "\n",
    "# Plot each channel\n",
    "for i in range(num_channels):\n",
    "    axes[i].plot(eeg_data[i, :])\n",
    "    axes[i].set_title(f'Channel {i+1}')\n",
    "    axes[i].set_ylabel('Amplitude (µV)')\n",
    "\n",
    "axes[-1].set_xlabel('Samples')\n",
    "\n",
    "plt.show()"
   ]
  },
  {
   "cell_type": "markdown",
   "metadata": {},
   "source": [
    "# Basic data processing (DC offset)\n",
    "\n",
    "If you look at the above graph of the raw data, the X-axis looks off - those values are far too large! Let's normalize the data so that it's centered around 0. "
   ]
  },
  {
   "cell_type": "code",
   "execution_count": null,
   "metadata": {},
   "outputs": [],
   "source": [
    "# To do this we can subtract the mean of the data from the data itself. This will center the data around zero.\n",
    "eeg_data_dc_removed = eeg_data - np.mean(eeg_data, axis=1, keepdims=True)\n",
    "\n",
    "# While we're at it, lets make a small function that performs all of our minimal processing this since we'll have to do it every time we pull data from the board.\n",
    "def remove_dc_offset(data):\n",
    "    return data[1:9, :] - np.mean(data[1:9, :], axis=1, keepdims=True)"
   ]
  },
  {
   "cell_type": "code",
   "execution_count": null,
   "metadata": {},
   "outputs": [],
   "source": [
    "# Now let's plot the results\n",
    "num_channels = eeg_data_dc_removed.shape[0]\n",
    "num_samples = eeg_data_dc_removed.shape[1]\n",
    "\n",
    "fig, axes = plt.subplots(num_channels, 1, figsize=(10, 2 * num_channels), sharex=True, sharey=True)\n",
    "\n",
    "for i in range(num_channels):\n",
    "    axes[i].plot(eeg_data_dc_removed[i, :])\n",
    "    axes[i].set_title(f'Channel {i+1}')\n",
    "    axes[i].set_ylabel('Amplitude (µV)')\n",
    "\n",
    "axes[-1].set_xlabel('Samples')\n",
    "\n",
    "plt.show()"
   ]
  },
  {
   "cell_type": "markdown",
   "metadata": {},
   "source": [
    "That looks much better!"
   ]
  },
  {
   "cell_type": "markdown",
   "metadata": {},
   "source": [
    "# Event Markers\n",
    "\n",
    "Event markers are very useful for BCI systems. They are used to mark specific times in the EEG stream where an event occured. This could be a stimulus presentation, a button press, etc. This allows us to segment the data into epochs or windows of EEG data around when the event and analyze the data in a more meaningful way.\n",
    "\n",
    "\n",
    "We can add markers to the data stream by calling `insert_marker()`. The marker itself has to be a number, and will have to be decoded later on. (i.e., what does the marker number 5 mean?)\n",
    "\n",
    "Lets make a small loop which inserts a marker every 0.5 seconds for 5 seconds."
   ]
  },
  {
   "cell_type": "code",
   "execution_count": null,
   "metadata": {},
   "outputs": [],
   "source": [
    "for _ in range(10):  # 5 seconds / 0.5 seconds = 10 iterations\n",
    "    cyton_board.insert_marker(marker=10,\n",
    "                                verbose=True # You can set this to False if you don't want to print the marker value\n",
    "                                )\n",
    "    time.sleep(0.5)\n",
    "    \n",
    "# Then, lets pull the last 5 seconds of data (250 samples per second * 5 seconds = 1250 samples)\n",
    "raw_data_1250 = cyton_board.get_current_board_data(num_samples = 1250)"
   ]
  },
  {
   "cell_type": "markdown",
   "metadata": {},
   "source": [
    "Now, lets do our minimal processing by taking out the marker channel, and then the EEG channels normalizing the raw data."
   ]
  },
  {
   "cell_type": "code",
   "execution_count": null,
   "metadata": {},
   "outputs": [],
   "source": [
    "# Extract marker channel (assuming it's at index 23)\n",
    "marker_data = raw_data_1250[23, :]  # Single row, all time points\n",
    "\n",
    "# Lets use the function we made earlier to extract eeg channels and normalize the data!\n",
    "eeg_data_dc_offset_removed = remove_dc_offset(eeg_data)"
   ]
  },
  {
   "cell_type": "markdown",
   "metadata": {},
   "source": [
    "Now, lets visualize the EEG data, with a vertical line for each marker."
   ]
  },
  {
   "cell_type": "code",
   "execution_count": null,
   "metadata": {},
   "outputs": [],
   "source": [
    "# Get number of samples\n",
    "num_samples = eeg_data_dc_offset_removed.shape[1]\n",
    "\n",
    "# Find marker event indices\n",
    "event_indices = np.where(marker_data == 10)[0] # Find the samples where the marker is 10\n",
    "\n",
    "# Plot EEG data with markers\n",
    "plt.figure(figsize=(12, 6))\n",
    "offset = 50  # Spacing between channels for easier visualization\n",
    "\n",
    "for i in range(eeg_data_dc_offset_removed.shape[0]):\n",
    "    plt.plot(eeg_data_dc_offset_removed[i] + i * offset, label=f'Ch {i+1}')\n",
    "\n",
    "# Add vertical lines for markers\n",
    "for event in event_indices:\n",
    "    plt.axvline(event, color='r', linestyle='--', linewidth=1)\n",
    "\n",
    "plt.xlabel(\"Samples\")\n",
    "plt.ylabel(\"EEG Channels\")\n",
    "plt.legend(loc=\"upper right\")\n",
    "plt.show()"
   ]
  },
  {
   "cell_type": "markdown",
   "metadata": {},
   "source": [
    "# Converting cyton data to an MNE object\n",
    "**[MNE Python](https://mne.tools/stable/index.html)** is a powerful python library for EEG data analysis. It has a lot of built-in functions for data processing, visualization, and analysis.\n",
    "\n",
    "In this section I will quickly demonstrate how you can take the raw data from the Cyton board and convert it into an MNE Raw object, which can then be used with all the MNE functions."
   ]
  },
  {
   "cell_type": "code",
   "execution_count": null,
   "metadata": {},
   "outputs": [],
   "source": [
    "# First, lets take a large amount (30 seconds) to make the conversion worthwhile\n",
    "\n",
    "time.sleep(30) # We have to wait for the buffer to fill up with data before we can pull it.\n",
    "\n",
    "raw_data_7500 = cyton_board.get_current_board_data(num_samples = 7500)\n",
    "\n",
    "# Then lets perform our minimal processing on the data normalize the data\n",
    "eeg_data_cleaned = remove_dc_offset(raw_data_7500)"
   ]
  },
  {
   "cell_type": "code",
   "execution_count": null,
   "metadata": {},
   "outputs": [],
   "source": [
    "# Then lets perform our minimal processing on the data normalize the data\n",
    "eeg_data_cleaned = remove_dc_offset(raw_data_7500)"
   ]
  },
  {
   "cell_type": "code",
   "execution_count": null,
   "metadata": {},
   "outputs": [],
   "source": [
    "import mne\n",
    "\n",
    "# Get channel names -> Can also define them manually\n",
    "ch_names = cyton_board.get_eeg_names(board_id)\n",
    "\n",
    "# Define channel types (MNE needs this)\n",
    "ch_types = ['eeg'] * len(ch_names)\n",
    "\n",
    "sampling_rate = cyton_board.get_sampling_rate()\n",
    "\n",
    "# Create MNE info structure\n",
    "info = mne.create_info(ch_names=ch_names, sfreq=sampling_rate, ch_types=ch_types)\n"
   ]
  },
  {
   "cell_type": "code",
   "execution_count": null,
   "metadata": {},
   "outputs": [],
   "source": [
    "# For MNE to work properly, we need to convert the data to Volts\n",
    "eeg_data_cleaned = eeg_data_cleaned * 1e-6 # Multiply the EEG data by 1e-6 to convert to Volts\n",
    "\n",
    "# Create the RawArray object\n",
    "raw = mne.io.RawArray(eeg_data_cleaned, info)\n",
    "\n",
    "# Plot to verify\n",
    "raw.plot()"
   ]
  },
  {
   "cell_type": "markdown",
   "metadata": {},
   "source": [
    "Finally, lets stop streaming from the board."
   ]
  },
  {
   "cell_type": "code",
   "execution_count": null,
   "metadata": {},
   "outputs": [],
   "source": [
    "cyton_board.stop()"
   ]
  },
  {
   "cell_type": "markdown",
   "metadata": {},
   "source": [
    "# Resources\n",
    "\n",
    "- [Brainflow Python Documentation](https://brainflow.readthedocs.io/en/stable/Examples.html#python)\n",
    "- [MNE Python](https://mne.tools/stable/index.html)"
   ]
  },
  {
   "cell_type": "markdown",
   "metadata": {},
   "source": []
  }
 ],
 "metadata": {
  "kernelspec": {
   "display_name": "neurohack",
   "language": "python",
   "name": "python3"
  },
  "language_info": {
   "codemirror_mode": {
    "name": "ipython",
    "version": 3
   },
   "file_extension": ".py",
   "mimetype": "text/x-python",
   "name": "python",
   "nbconvert_exporter": "python",
   "pygments_lexer": "ipython3",
   "version": "3.12.9"
  }
 },
 "nbformat": 4,
 "nbformat_minor": 2
}
