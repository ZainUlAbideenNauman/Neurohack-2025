{
 "cells": [
  {
   "cell_type": "code",
   "execution_count": 11,
   "metadata": {},
   "outputs": [],
   "source": [
    "import scipy\n",
    "import numpy as np\n",
    "import matplotlib.pyplot as plt\n",
    "import time\n",
    "import mne\n",
    "from scipy.signal import butter, lfilter\n",
    "\n",
    "import brainflow\n",
    "from brainflow.board_shim import BoardShim, BrainFlowInputParams, BrainFlowError, BoardIds\n",
    "\n",
    "\n",
    "# Import the custom module.\n",
    "from brainflow_stream import BrainFlowBoardSetup"
   ]
  },
  {
   "cell_type": "code",
   "execution_count": 12,
   "metadata": {},
   "outputs": [
    {
     "name": "stdout",
     "output_type": "stream",
     "text": [
      "accel_channels: [9, 10, 11]\n",
      "analog_channels: [19, 20, 21]\n",
      "ecg_channels: [1, 2, 3, 4, 5, 6, 7, 8]\n",
      "eeg_channels: [1, 2, 3, 4, 5, 6, 7, 8]\n",
      "eeg_names: Fp1,Fp2,C3,C4,P7,P8,O1,O2\n",
      "emg_channels: [1, 2, 3, 4, 5, 6, 7, 8]\n",
      "eog_channels: [1, 2, 3, 4, 5, 6, 7, 8]\n",
      "marker_channel: 23\n",
      "name: Cyton\n",
      "num_rows: 24\n",
      "other_channels: [12, 13, 14, 15, 16, 17, 18]\n",
      "package_num_channel: 0\n",
      "sampling_rate: 250\n",
      "timestamp_channel: 22\n"
     ]
    }
   ],
   "source": [
    "board_id = BoardIds.CYTON_BOARD.value # Set the board_id to match the Cyton board\n",
    "\n",
    "# Lets quickly take a look at the specifications of the Cyton board\n",
    "for item1, item2 in BoardShim.get_board_descr(board_id).items():\n",
    "    print(f\"{item1}: {item2}\")"
   ]
  },
  {
   "cell_type": "code",
   "execution_count": 13,
   "metadata": {},
   "outputs": [
    {
     "name": "stdout",
     "output_type": "stream",
     "text": [
      "No serial port provided, attempting to auto-detect...\n",
      "Compatible device found: Serial Number: DM01HOSQA, Description: USB Serial Port (COM4)\n",
      "[Board_1, COM4] Error setting up board: BOARD_NOT_READY_ERROR:7 unable to prepare streaming session\n"
     ]
    }
   ],
   "source": [
    "cyton_board = BrainFlowBoardSetup(\n",
    "                                board_id = board_id,\n",
    "                                name = 'Board_1', # Optional name for the board. This is useful if you have multiple boards connected and want to distinguish between them.\n",
    "                                serial_port = None # If the serial port is not specified, it will try to auto-detect the board. If this fails, you will have to assign the correct serial port. See https://docs.openbci.com/GettingStarted/Boards/CytonGS/ \n",
    "                                ) \n",
    "\n",
    "cyton_board.setup() # This will establish a connection to the board and start streaming data.\n",
    "\n",
    "# DM01HOSQA"
   ]
  },
  {
   "cell_type": "code",
   "execution_count": 14,
   "metadata": {},
   "outputs": [],
   "source": [
    "# board_info = cyton_board.get_board_info() # Retrieves the EEG channel and sampling rate of the board.\n",
    "# print(f\"Board info: {board_info}\")\n",
    "\n",
    "# board_srate = cyton_board.get_sampling_rate() # Retrieves the sampling rate of the board.\n",
    "# print(f\"Board sampling rate: {board_srate}\")"
   ]
  },
  {
   "cell_type": "code",
   "execution_count": 15,
   "metadata": {},
   "outputs": [],
   "source": [
    "# Function to create a bandpass filter for beta waves (13-30 Hz)\n",
    "\n",
    "def bandpass_filter(data, lowcut=13, highcut=30, fs=250, order=4):\n",
    "    nyquist = 0.5 * fs\n",
    "    low = lowcut / nyquist\n",
    "    high = highcut / nyquist\n",
    "    b, a = butter(order, [low, high], btype='band')\n",
    "    y = lfilter(b, a, data)\n",
    "\n",
    "    return y"
   ]
  },
  {
   "cell_type": "code",
   "execution_count": 16,
   "metadata": {},
   "outputs": [],
   "source": [
    "def remove_dc_offset(data):\n",
    "    return data[1:9, :] - np.mean(data[1:9, :], axis=1, keepdims=True)"
   ]
  },
  {
   "cell_type": "code",
   "execution_count": 17,
   "metadata": {},
   "outputs": [],
   "source": [
    "# Function to convert EEG data to an MNE object\n",
    "def convert_to_mne(data, sfreq):\n",
    "    ch_names = [f'EEG {i+1}' for i in range(data.shape[0])]\n",
    "    ch_types = ['eeg'] * data.shape[0]\n",
    "    info = mne.create_info(ch_names=ch_names, sfreq=sfreq, ch_types=ch_types)\n",
    "    return mne.io.RawArray(data, info)"
   ]
  },
  {
   "cell_type": "code",
   "execution_count": 18,
   "metadata": {},
   "outputs": [],
   "source": [
    "# Function to compute power spectral density and extract beta waves\n",
    "def extract_beta_power(raw):\n",
    "    psd, freqs = mne.time_frequency.psd_array_welch(raw.get_data(), sfreq=raw.info['sfreq'], fmin=13, fmax=30, n_fft=512)\n",
    "    psd = np.maximum(psd, np.finfo(float).eps)\n",
    "    psd_db = 10 * np.log10(psd)  # Convert power to dB\n",
    "    return mne.io.RawArray(psd_db, raw.info)"
   ]
  },
  {
   "cell_type": "code",
   "execution_count": 19,
   "metadata": {},
   "outputs": [],
   "source": [
    "def process_eeg_beta (period_time, total_time, cyton_board):\n",
    "    period_sum = []\n",
    "    period_average = []\n",
    "\n",
    "    for i in range(4):\n",
    "        time.sleep(period_time)\n",
    "        print(i)\n",
    "        period_data = cyton_board.get_current_board_data(num_samples = 250 * period_time)\n",
    "        data_eeg = period_data[1:9, :]\n",
    "        data_eeg = remove_dc_offset(period_data) # Remove DC offset\n",
    "\n",
    "        data_mne = convert_to_mne(data_eeg, 250)\n",
    "        beta_power = extract_beta_power(data_mne)\n",
    "\n",
    "        print(data_eeg.shape)\n",
    "        print(beta_power.get_data().shape)  # Correct way to check shape\n",
    "\n",
    "        freqs = np.linspace(13, 30, beta_power.get_data().shape[1])  # Generate frequency bins\n",
    "        power_values = beta_power.get_data()  # Get power values\n",
    "\n",
    "        period_sum.append(np.sum(power_values))\n",
    "        period_average.append(np.mean(power_values))\n",
    "\n",
    "        # Plot power spectrum for each EEG channel\n",
    "        plt.figure(figsize=(10, 6))\n",
    "        for i in range(power_values.shape[0]):  # Loop through channels\n",
    "            plt.plot(freqs, power_values[i], label=f'EEG {i+1}')\n",
    "\n",
    "        plt.xlabel(\"Frequency (Hz)\")\n",
    "        plt.ylabel(\"Power (dB)\")\n",
    "        plt.title(\"Beta Wave Power Spectrum (13-30 Hz)\")\n",
    "        plt.legend()\n",
    "        plt.grid(True)\n",
    "        plt.show()   \n",
    "\n",
    "    return period_sum, period_average\n",
    "\n",
    "\n"
   ]
  },
  {
   "cell_type": "code",
   "execution_count": 20,
   "metadata": {},
   "outputs": [
    {
     "name": "stdout",
     "output_type": "stream",
     "text": [
      "0\n",
      "Board is not set up.\n"
     ]
    },
    {
     "ename": "TypeError",
     "evalue": "'NoneType' object is not subscriptable",
     "output_type": "error",
     "traceback": [
      "\u001b[31m---------------------------------------------------------------------------\u001b[39m",
      "\u001b[31mTypeError\u001b[39m                                 Traceback (most recent call last)",
      "\u001b[36mCell\u001b[39m\u001b[36m \u001b[39m\u001b[32mIn[20]\u001b[39m\u001b[32m, line 1\u001b[39m\n\u001b[32m----> \u001b[39m\u001b[32m1\u001b[39m period_sum, period_average = \u001b[43mprocess_eeg_beta\u001b[49m\u001b[43m(\u001b[49m\u001b[32;43m15\u001b[39;49m\u001b[43m,\u001b[49m\u001b[43m \u001b[49m\u001b[32;43m60\u001b[39;49m\u001b[43m,\u001b[49m\u001b[43m \u001b[49m\u001b[43mcyton_board\u001b[49m\u001b[43m)\u001b[49m\n\u001b[32m      3\u001b[39m \u001b[38;5;28mprint\u001b[39m(period_sum)\n\u001b[32m      4\u001b[39m \u001b[38;5;28mprint\u001b[39m(period_average)\n",
      "\u001b[36mCell\u001b[39m\u001b[36m \u001b[39m\u001b[32mIn[19]\u001b[39m\u001b[32m, line 9\u001b[39m, in \u001b[36mprocess_eeg_beta\u001b[39m\u001b[34m(period_time, total_time, cyton_board)\u001b[39m\n\u001b[32m      7\u001b[39m \u001b[38;5;28mprint\u001b[39m(i)\n\u001b[32m      8\u001b[39m period_data = cyton_board.get_current_board_data(num_samples = \u001b[32m250\u001b[39m * period_time)\n\u001b[32m----> \u001b[39m\u001b[32m9\u001b[39m data_eeg = \u001b[43mperiod_data\u001b[49m\u001b[43m[\u001b[49m\u001b[32;43m1\u001b[39;49m\u001b[43m:\u001b[49m\u001b[32;43m9\u001b[39;49m\u001b[43m,\u001b[49m\u001b[43m \u001b[49m\u001b[43m:\u001b[49m\u001b[43m]\u001b[49m\n\u001b[32m     10\u001b[39m data_eeg = remove_dc_offset(period_data) \u001b[38;5;66;03m# Remove DC offset\u001b[39;00m\n\u001b[32m     12\u001b[39m data_mne = convert_to_mne(data_eeg, \u001b[32m250\u001b[39m)\n",
      "\u001b[31mTypeError\u001b[39m: 'NoneType' object is not subscriptable"
     ]
    }
   ],
   "source": [
    "period_sum, period_average = process_eeg_beta(15, 60, cyton_board)\n",
    "\n",
    "print(period_sum)\n",
    "print(period_average)\n",
    "\n"
   ]
  },
  {
   "cell_type": "code",
   "execution_count": null,
   "metadata": {},
   "outputs": [],
   "source": []
  }
 ],
 "metadata": {
  "kernelspec": {
   "display_name": "neurohack",
   "language": "python",
   "name": "python3"
  },
  "language_info": {
   "codemirror_mode": {
    "name": "ipython",
    "version": 3
   },
   "file_extension": ".py",
   "mimetype": "text/x-python",
   "name": "python",
   "nbconvert_exporter": "python",
   "pygments_lexer": "ipython3",
   "version": "3.12.9"
  }
 },
 "nbformat": 4,
 "nbformat_minor": 2
}
